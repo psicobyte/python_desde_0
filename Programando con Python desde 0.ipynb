{
 "cells": [
  {
   "cell_type": "markdown",
   "metadata": {
    "slideshow": {
     "slide_type": "slide"
    }
   },
   "source": [
    "# Básicos de la OSL:\n",
    "## Programando con Python desde 0\n",
    "\n",
    "(CC By-SA)"
   ]
  },
  {
   "cell_type": "markdown",
   "metadata": {
    "slideshow": {
     "slide_type": "slide"
    }
   },
   "source": [
    "Angel Pablo Hinojosa\n",
    "\n",
    "@psicobyte_\n",
    "\n",
    "http://www.psicobyte.com\n",
    "\n",
    "psicobyte@gmail.com"
   ]
  },
  {
   "cell_type": "markdown",
   "metadata": {
    "slideshow": {
     "slide_type": "slide"
    }
   },
   "source": [
    "Oficina de Software Libre de la Universidad de Granada\n",
    "\n",
    "http://osl.ugr.es"
   ]
  },
  {
   "cell_type": "markdown",
   "metadata": {
    "slideshow": {
     "slide_type": "slide"
    }
   },
   "source": [
    "Usa este cuaderno online:\n",
    "\n",
    "http://mybinder.org/repo/psicobyte/python_desde_0"
   ]
  },
  {
   "cell_type": "markdown",
   "metadata": {
    "slideshow": {
     "slide_type": "slide"
    }
   },
   "source": [
    "Interpretado\n",
    "\n",
    "Fuertemente (y dinámicamente) tipado\n",
    "\n",
    "Multiparadigma (Orientado a objetos)\n",
    "\n",
    "Multiplataforma\n",
    "\n",
    "Enfocado a la legibilidad"
   ]
  },
  {
   "cell_type": "markdown",
   "metadata": {
    "slideshow": {
     "slide_type": "slide"
    }
   },
   "source": [
    "## Lo básico:"
   ]
  },
  {
   "cell_type": "code",
   "execution_count": 1,
   "metadata": {
    "collapsed": false,
    "slideshow": {
     "slide_type": "slide"
    }
   },
   "outputs": [
    {
     "name": "stdout",
     "output_type": "stream",
     "text": [
      "Hola Mundo\n"
     ]
    }
   ],
   "source": [
    "# Hola Mundo\n",
    "\n",
    "saludo = \"Hola\"\n",
    "print(saludo + \" Mundo\")"
   ]
  },
  {
   "cell_type": "code",
   "execution_count": 2,
   "metadata": {
    "collapsed": false,
    "slideshow": {
     "slide_type": "slide"
    }
   },
   "outputs": [
    {
     "name": "stdout",
     "output_type": "stream",
     "text": [
      "13.0\n"
     ]
    }
   ],
   "source": [
    "print(7 + 6.0)"
   ]
  },
  {
   "cell_type": "code",
   "execution_count": 3,
   "metadata": {
    "collapsed": false,
    "slideshow": {
     "slide_type": "slide"
    }
   },
   "outputs": [
    {
     "name": "stdout",
     "output_type": "stream",
     "text": [
      "Esta sí\n"
     ]
    }
   ],
   "source": [
    "cierto = True\n",
    "falso = False\n",
    "\n",
    "if cierto and 0:\n",
    "    # no se imprime porque el cero es falso\n",
    "    print(\"Imposible\")\n",
    "    if True:\n",
    "        print(\"no llega a evaluarse\")\n",
    "elif not falso:\n",
    "    # \"no falso\" es cierto\n",
    "    print(\"Esta sí\")\n",
    "else:\n",
    "    print(\"La última tampoco llega a evaluarse\")"
   ]
  },
  {
   "cell_type": "markdown",
   "metadata": {
    "collapsed": true,
    "slideshow": {
     "slide_type": "slide"
    }
   },
   "source": [
    "## Un poquito más complicado"
   ]
  },
  {
   "cell_type": "code",
   "execution_count": 4,
   "metadata": {
    "collapsed": false,
    "slideshow": {
     "slide_type": "slide"
    }
   },
   "outputs": [
    {
     "name": "stdout",
     "output_type": "stream",
     "text": [
      "[1, 2, 3, 4, 5]\n"
     ]
    }
   ],
   "source": [
    "lista = [1, 2, 3, 4, 5]\n",
    "\n",
    "print(lista)"
   ]
  },
  {
   "cell_type": "code",
   "execution_count": 5,
   "metadata": {
    "collapsed": false,
    "slideshow": {
     "slide_type": "slide"
    }
   },
   "outputs": [
    {
     "name": "stdout",
     "output_type": "stream",
     "text": [
      "3\n"
     ]
    }
   ],
   "source": [
    "print(lista[2])"
   ]
  },
  {
   "cell_type": "code",
   "execution_count": 6,
   "metadata": {
    "collapsed": false,
    "slideshow": {
     "slide_type": "slide"
    }
   },
   "outputs": [
    {
     "name": "stdout",
     "output_type": "stream",
     "text": [
      "c2\n"
     ]
    }
   ],
   "source": [
    "lista_de_listas = [[\"a1\",\"b1\",\"c1\"],[\"a2\",\"b2\",\"c2\"]]\n",
    "print(lista_de_listas[1][2])\n"
   ]
  },
  {
   "cell_type": "code",
   "execution_count": 7,
   "metadata": {
    "collapsed": false,
    "slideshow": {
     "slide_type": "slide"
    }
   },
   "outputs": [
    {
     "name": "stdout",
     "output_type": "stream",
     "text": [
      "uno\n",
      "dos\n",
      "tres\n",
      "cuatro\n",
      "cinco\n"
     ]
    }
   ],
   "source": [
    "lista = [\"uno\", \"dos\", \"tres\", \"cuatro\", \"cinco\"]\n",
    "for numero in lista:\n",
    "    print(numero)"
   ]
  },
  {
   "cell_type": "code",
   "execution_count": 8,
   "metadata": {
    "collapsed": false,
    "slideshow": {
     "slide_type": "slide"
    }
   },
   "outputs": [
    {
     "name": "stdout",
     "output_type": "stream",
     "text": [
      "1\n",
      "2\n",
      "*\n"
     ]
    }
   ],
   "source": [
    "incremento = 0\n",
    "\n",
    "while incremento < 5:\n",
    "    incremento += 1\n",
    "    if incremento == 3:\n",
    "        print(\"*\")\n",
    "        break\n",
    "    print(incremento)"
   ]
  },
  {
   "cell_type": "code",
   "execution_count": 9,
   "metadata": {
    "collapsed": false,
    "slideshow": {
     "slide_type": "slide"
    }
   },
   "outputs": [
    {
     "name": "stdout",
     "output_type": "stream",
     "text": [
      "1\n",
      "2\n",
      "*\n",
      "4\n",
      "5\n"
     ]
    }
   ],
   "source": [
    "incremento = 0\n",
    "\n",
    "while incremento < 5:\n",
    "    incremento += 1\n",
    "    if incremento == 3:\n",
    "        print(\"*\")\n",
    "        continue\n",
    "    print(incremento)"
   ]
  },
  {
   "cell_type": "code",
   "execution_count": 10,
   "metadata": {
    "collapsed": false,
    "slideshow": {
     "slide_type": "slide"
    }
   },
   "outputs": [
    {
     "name": "stdout",
     "output_type": "stream",
     "text": [
      "Pablo\n"
     ]
    }
   ],
   "source": [
    "diccionario = {\"nombre\": \"Pablo\", \"apellido\": \"Hinojosa\", \"nacido\": \"1973\"}\n",
    "print(diccionario[\"nombre\"])"
   ]
  },
  {
   "cell_type": "code",
   "execution_count": 11,
   "metadata": {
    "collapsed": false,
    "slideshow": {
     "slide_type": "slide"
    }
   },
   "outputs": [
    {
     "name": "stdout",
     "output_type": "stream",
     "text": [
      "Hinojosa\n",
      "1973\n",
      "Pablo\n"
     ]
    }
   ],
   "source": [
    "diccionario = {\"nombre\": \"Pablo\", \"apellido\": \"Hinojosa\", \"nacido\": \"1973\"}\n",
    "for entrada in diccionario:\n",
    "    print(diccionario[entrada])"
   ]
  },
  {
   "cell_type": "markdown",
   "metadata": {
    "slideshow": {
     "slide_type": "slide"
    }
   },
   "source": [
    "## Funciones"
   ]
  },
  {
   "cell_type": "code",
   "execution_count": 12,
   "metadata": {
    "collapsed": false,
    "slideshow": {
     "slide_type": "slide"
    }
   },
   "outputs": [
    {
     "name": "stdout",
     "output_type": "stream",
     "text": [
      "El texto contiene varias palabras\n"
     ]
    }
   ],
   "source": [
    "def mi_funcion(texto):\n",
    "    \"\"\"Esto es una Docstring\"\"\"\n",
    "    \n",
    "    if \" \" in texto:\n",
    "        print(\"El texto contiene varias palabras\")\n",
    "    elif len(texto) > 5:\n",
    "        print(\"Es una palabra larga\")\n",
    "    else:\n",
    "        print(\"Es una palabra corta\")\n",
    "        \n",
    "mi_funcion(\"Hola mundo\")"
   ]
  },
  {
   "cell_type": "code",
   "execution_count": 13,
   "metadata": {
    "collapsed": false,
    "slideshow": {
     "slide_type": "slide"
    }
   },
   "outputs": [
    {
     "name": "stdout",
     "output_type": "stream",
     "text": [
      "25\n",
      "HoLa\n"
     ]
    }
   ],
   "source": [
    "def otra_funcion(cosa,otra_cosa):\n",
    "    return cosa + otra_cosa\n",
    "\n",
    "resultado = otra_funcion(10,15)\n",
    "print(resultado)\n",
    "\n",
    "resultado = otra_funcion(\"Ho\",\"La\")\n",
    "print(resultado)"
   ]
  },
  {
   "cell_type": "code",
   "execution_count": 14,
   "metadata": {
    "collapsed": false,
    "slideshow": {
     "slide_type": "slide"
    }
   },
   "outputs": [
    {
     "name": "stdout",
     "output_type": "stream",
     "text": [
      "1\n",
      "2\n",
      "3\n",
      "4\n",
      "5\n"
     ]
    }
   ],
   "source": [
    "def funcion_molona(numero_final):\n",
    "    i = 0\n",
    "    while i < numero_final:\n",
    "        i += 1\n",
    "        yield i\n",
    "\n",
    "for n in funcion_molona(5):\n",
    "    print(n)"
   ]
  },
  {
   "cell_type": "markdown",
   "metadata": {
    "slideshow": {
     "slide_type": "slide"
    }
   },
   "source": [
    "## Objetos"
   ]
  },
  {
   "cell_type": "code",
   "execution_count": 15,
   "metadata": {
    "collapsed": false,
    "slideshow": {
     "slide_type": "slide"
    }
   },
   "outputs": [
    {
     "name": "stdout",
     "output_type": "stream",
     "text": [
      "Mi Cosa\n"
     ]
    }
   ],
   "source": [
    "class MiObjeto:\n",
    "    def __init__(self,nombre):\n",
    "        self.nombre = nombre\n",
    "    def ver_nombre(self):\n",
    "        return self.nombre\n",
    "    \n",
    "cosa = MiObjeto(\"Mi Cosa\")\n",
    "\n",
    "print(cosa.ver_nombre())"
   ]
  },
  {
   "cell_type": "code",
   "execution_count": 16,
   "metadata": {
    "collapsed": false,
    "slideshow": {
     "slide_type": "slide"
    }
   },
   "outputs": [
    {
     "name": "stdout",
     "output_type": "stream",
     "text": [
      "Mi Cosa\n"
     ]
    }
   ],
   "source": [
    "class ObjetoHijo(MiObjeto):\n",
    "    def ver_nombre(self):\n",
    "        return self.nombre\n",
    "    \n",
    "cosa = MiObjeto(\"Mi Cosa\")\n",
    "\n",
    "print(cosa.ver_nombre())"
   ]
  },
  {
   "cell_type": "markdown",
   "metadata": {
    "slideshow": {
     "slide_type": "slide"
    }
   },
   "source": [
    "## Módulos"
   ]
  },
  {
   "cell_type": "code",
   "execution_count": 17,
   "metadata": {
    "collapsed": false,
    "slideshow": {
     "slide_type": "slide"
    }
   },
   "outputs": [
    {
     "name": "stdout",
     "output_type": "stream",
     "text": [
      "linux\n"
     ]
    }
   ],
   "source": [
    "import sys\n",
    "\n",
    "mi_sistema = sys.platform\n",
    "\n",
    "print(mi_sistema)"
   ]
  },
  {
   "cell_type": "code",
   "execution_count": 18,
   "metadata": {
    "collapsed": false,
    "slideshow": {
     "slide_type": "slide"
    }
   },
   "outputs": [
    {
     "data": {
      "text/plain": [
       "<matplotlib.axes._subplots.AxesSubplot at 0x7f7863a164e0>"
      ]
     },
     "execution_count": 18,
     "metadata": {},
     "output_type": "execute_result"
    },
    {
     "data": {
      "image/png": "[encoded data removed]",
      "text/plain": [
       "<matplotlib.figure.Figure at 0x7f78664cf470>"
      ]
     },
     "metadata": {},
     "output_type": "display_data"
    }
   ],
   "source": [
    "import pandas as pd\n",
    "\n",
    "# Ignorad esta línea\n",
    "%matplotlib inline\n",
    "\n",
    "data_frame = pd.DataFrame({\n",
    "\"uno\": [1, 2, 3],      \n",
    "\"dos\": [4, 1, 4],\n",
    "\"tres\": [3, 2, 2]\n",
    "})\n",
    "\n",
    "data_frame.plot()"
   ]
  },
  {
   "cell_type": "markdown",
   "metadata": {
    "slideshow": {
     "slide_type": "slide"
    }
   },
   "source": [
    "## Recursos"
   ]
  },
  {
   "cell_type": "markdown",
   "metadata": {
    "slideshow": {
     "slide_type": "slide"
    }
   },
   "source": [
    "Esta Presentación:\n",
    "https://psicobyte.github.io/python_desde_0/\n",
    "\n",
    "Otra presentación, más divertida (y completa) que esta:\n",
    "http://www.psicobyte.com/descargas/taller_python.pdf\n",
    "\n",
    "Python: Lo bueno, lo feo y lo malo:\n",
    "https://psicobyte.github.io/CharlaPyday2016\n",
    "\n",
    "Mi libro (porque yo he venido a hablar de mi libro):\n",
    "https://www.amazon.es/Phyton-ANGEL-PABLO-HINOJOSA-GUTIERREZ/dp/8499646115/\n",
    "\n",
    "Web ofical de Python:\n",
    "https://www.python.org/\n",
    "\n",
    "Python Granada:\n",
    "https://python-granada.es/\n",
    "\n",
    "...y su grupo de Telegram:\n",
    "https://telegram.me/pythongranada"
   ]
  }
 ],
 "metadata": {
  "celltoolbar": "Slideshow",
  "kernelspec": {
   "display_name": "Python 3",
   "language": "python",
   "name": "python3"
  },
  "language_info": {
   "codemirror_mode": {
    "name": "ipython",
    "version": 3
   },
   "file_extension": ".py",
   "mimetype": "text/x-python",
   "name": "python",
   "nbconvert_exporter": "python",
   "pygments_lexer": "ipython3",
   "version": "3.5.3"
  }
 },
 "nbformat": 4,
 "nbformat_minor": 2
}
